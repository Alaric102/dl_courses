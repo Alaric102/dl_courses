{
 "cells": [
  {
   "cell_type": "markdown",
   "metadata": {},
   "source": [
    "# Homework 1. Part 2\n",
    "## Линейный классификатор (Linear classifier)\n",
    "\n",
    "В этом задании мы реализуем другую модель машинного обучения - линейный классификатор. Линейный классификатор подбирает для каждого класса веса, на которые нужно умножить значение каждого признака и потом сложить вместе.\n",
    "Тот класс, у которого эта сумма больше, и является предсказанием модели.\n",
    "\n",
    "В этом задании вы:\n",
    "- потренируетесь считать градиенты различных многомерных функций\n",
    "- реализуете подсчет градиентов через линейную модель и функцию потерь softmax\n",
    "- реализуете процесс тренировки линейного классификатора\n",
    "- подберете параметры тренировки на практике\n",
    "\n",
    "На всякий случай, еще раз ссылка на туториал по numpy:  \n",
    "http://cs231n.github.io/python-numpy-tutorial/"
   ]
  },
  {
   "cell_type": "code",
   "execution_count": 1,
   "metadata": {},
   "outputs": [],
   "source": [
    "import numpy as np\n",
    "import matplotlib.pyplot as plt\n",
    "from pathlib import Path\n",
    "\n",
    "from scripts.dataset import load_svhn, random_split_train_val\n",
    "from scripts.gradient_check import check_gradient\n",
    "from scripts.metrics import multiclass_accuracy \n",
    "import scripts.linear_classifer as linear_classifer\n",
    "\n",
    "%matplotlib inline\n",
    "\n",
    "%load_ext autoreload\n",
    "%autoreload 2"
   ]
  },
  {
   "cell_type": "markdown",
   "metadata": {},
   "source": [
    "# Как всегда, первым делом загружаем данные\n",
    "\n",
    "Мы будем использовать все тот же SVHN."
   ]
  },
  {
   "cell_type": "code",
   "execution_count": 2,
   "metadata": {},
   "outputs": [],
   "source": [
    "def prepare_for_linear_classifier(train_X, test_X):\n",
    "    train_flat = train_X.reshape(train_X.shape[0], -1).astype(float) / 255.0\n",
    "    test_flat = test_X.reshape(test_X.shape[0], -1).astype(float) / 255.0\n",
    "    \n",
    "    # Subtract mean\n",
    "    mean_image = np.mean(train_flat, axis = 0)\n",
    "    train_flat -= mean_image\n",
    "    test_flat -= mean_image\n",
    "\n",
    "    # Add another channel with ones as a bias term\n",
    "    train_flat_with_ones = np.hstack([train_flat, np.ones((train_X.shape[0], 1))])\n",
    "    test_flat_with_ones = np.hstack([test_flat, np.ones((test_X.shape[0], 1))])\n",
    "    return train_flat_with_ones, test_flat_with_ones\n",
    "\n",
    "DATA_FOLDER = Path().cwd() / \"data\" / \"housenumbers\"\n",
    "train_X, train_y, test_X, test_y = load_svhn(DATA_FOLDER, max_train=10000, max_test=1000)\n",
    "train_X, test_X = prepare_for_linear_classifier(train_X, test_X)\n",
    "# Split train into train and val\n",
    "train_X, train_y, val_X, val_y = random_split_train_val(train_X, train_y, num_val = 1000)"
   ]
  },
  {
   "cell_type": "markdown",
   "metadata": {},
   "source": [
    "# Играемся с градиентами!\n",
    "\n",
    "В этом курсе мы будем писать много функций, которые вычисляют градиенты аналитическим методом.\n",
    "\n",
    "Все функции, в которых мы будем вычислять градиенты, будут написаны по одной и той же схеме.  \n",
    "Они будут получать на вход точку, где нужно вычислить значение и градиент функции, а на выходе будут выдавать кортеж (tuple) из двух значений - собственно значения функции в этой точке (всегда одно число) и аналитического значения градиента в той же точке (той же размерности, что и вход).\n",
    "```\n",
    "def f(x):\n",
    "    \"\"\"\n",
    "    Computes function and analytic gradient at x\n",
    "    \n",
    "    x: np array of float, input to the function\n",
    "    \n",
    "    Returns:\n",
    "    value: float, value of the function \n",
    "    grad: np array of float, same shape as x\n",
    "    \"\"\"\n",
    "    ...\n",
    "    \n",
    "    return value, grad\n",
    "```\n",
    "\n",
    "Необходимым инструментом во время реализации кода, вычисляющего градиенты, является функция его проверки. Эта функция вычисляет градиент численным методом и сверяет результат с градиентом, вычисленным аналитическим методом.\n",
    "\n",
    "Мы начнем с того, чтобы реализовать вычисление численного градиента (numeric gradient) в функции `check_gradient` в `gradient_check.py`. Эта функция будет принимать на вход функции формата, заданного выше, использовать значение `value` для вычисления численного градиента и сравнит его с аналитическим - они должны сходиться.\n",
    "\n",
    "Напишите часть функции, которая вычисляет градиент с помощью численной производной для каждой координаты. Для вычисления производной используйте так называемую two-point formula (https://en.wikipedia.org/wiki/Numerical_differentiation):\n",
    "\n",
    "![image](https://wikimedia.org/api/rest_v1/media/math/render/svg/22fc2c0a66c63560a349604f8b6b39221566236d)\n",
    "\n",
    "Все функции приведенные в следующей клетке должны проходить gradient check."
   ]
  },
  {
   "cell_type": "code",
   "execution_count": 3,
   "metadata": {
    "scrolled": true
   },
   "outputs": [
    {
     "name": "stdout",
     "output_type": "stream",
     "text": [
      "Gradient check passed!\n",
      "Gradient check passed!\n",
      "Gradient check passed!\n"
     ]
    },
    {
     "name": "stderr",
     "output_type": "stream",
     "text": [
      "/tmp/ipykernel_3801500/4134425930.py:5: DeprecationWarning: Conversion of an array with ndim > 0 to a scalar is deprecated, and will error in future. Ensure you extract a single element from your array before performing this operation. (Deprecated NumPy 1.25.)\n",
      "  return float(x*x), 2*x\n"
     ]
    },
    {
     "data": {
      "text/plain": [
       "True"
      ]
     },
     "execution_count": 3,
     "metadata": {},
     "output_type": "execute_result"
    }
   ],
   "source": [
    "# Implemented check_gradient function in gradient_check.py\n",
    "# All the functions below should pass the gradient check\n",
    "\n",
    "def square(x):\n",
    "    return float(x*x), 2*x\n",
    "check_gradient(square, np.array([3.0]))\n",
    "\n",
    "def array_sum(x):\n",
    "    assert x.shape == (2,), x.shape\n",
    "    return np.sum(x), np.ones_like(x)\n",
    "check_gradient(array_sum, np.array([3.0, 2.0]))\n",
    "\n",
    "def array_2d_sum(x):\n",
    "    assert x.shape == (2,2)\n",
    "    return np.sum(x), np.ones_like(x)\n",
    "check_gradient(array_2d_sum, np.array([[3.0, 2.0], [1.0, 0.0]]))"
   ]
  },
  {
   "cell_type": "markdown",
   "metadata": {},
   "source": [
    "## Начинаем писать свои функции, считающие аналитический градиент\n",
    "\n",
    "Теперь реализуем функцию softmax, которая получает на вход оценки для каждого класса и преобразует их в вероятности от 0 до 1:\n",
    "![image](https://wikimedia.org/api/rest_v1/media/math/render/svg/e348290cf48ddbb6e9a6ef4e39363568b67c09d3)\n",
    "\n",
    "**Важно:** Практический аспект вычисления этой функции заключается в том, что в ней учавствует вычисление экспоненты от потенциально очень больших чисел - это может привести к очень большим значениям в числителе и знаменателе за пределами диапазона float.\n",
    "\n",
    "К счастью, у этой проблемы есть простое решение -- перед вычислением softmax вычесть из всех оценок максимальное значение среди всех оценок:\n",
    "```\n",
    "predictions -= np.max(predictions)\n",
    "```\n",
    "(подробнее здесь - http://cs231n.github.io/linear-classify/#softmax, секция `Practical issues: Numeric stability`)"
   ]
  },
  {
   "cell_type": "code",
   "execution_count": 4,
   "metadata": {},
   "outputs": [],
   "source": [
    "# TODO Implement softmax and cross-entropy for single sample\n",
    "probs = linear_classifer.softmax(np.array([-10, 0, 10]))\n",
    "\n",
    "# Make sure it works for big numbers too!\n",
    "probs = linear_classifer.softmax(np.array([1000, 0, 0]))\n",
    "assert np.isclose(probs[0], 1.0)"
   ]
  },
  {
   "cell_type": "markdown",
   "metadata": {},
   "source": [
    "Кроме этого, мы реализуем cross-entropy loss, которую мы будем использовать как функцию ошибки (error function).\n",
    "В общем виде cross-entropy определена следующим образом:\n",
    "![image](https://wikimedia.org/api/rest_v1/media/math/render/svg/0cb6da032ab424eefdca0884cd4113fe578f4293)\n",
    "\n",
    "где x - все классы, p(x) - истинная вероятность принадлежности сэмпла классу x, а q(x) - вероятность принадлежности классу x, предсказанная моделью.  \n",
    "В нашем случае сэмпл принадлежит только одному классу, индекс которого передается функции. Для него p(x) равна 1, а для остальных классов - 0. \n",
    "\n",
    "Это позволяет реализовать функцию проще!"
   ]
  },
  {
   "cell_type": "code",
   "execution_count": 5,
   "metadata": {},
   "outputs": [
    {
     "data": {
      "text/plain": [
       "5.006760443547121"
      ]
     },
     "execution_count": 5,
     "metadata": {},
     "output_type": "execute_result"
    }
   ],
   "source": [
    "probs = linear_classifer.softmax(np.array([-5, 0, 5]))\n",
    "linear_classifer.cross_entropy_loss(probs, 1)"
   ]
  },
  {
   "cell_type": "markdown",
   "metadata": {},
   "source": [
    "После того как мы реализовали сами функции, мы можем реализовать градиент.\n",
    "\n",
    "Оказывается, что вычисление градиента становится гораздо проще, если объединить эти функции в одну, которая сначала вычисляет вероятности через softmax, а потом использует их для вычисления функции ошибки через cross-entropy loss.\n",
    "\n",
    "Эта функция `softmax_with_cross_entropy` будет возвращает и значение ошибки, и градиент по входным параметрам. Мы проверим корректность реализации с помощью `check_gradient`."
   ]
  },
  {
   "cell_type": "code",
   "execution_count": 6,
   "metadata": {},
   "outputs": [
    {
     "name": "stdout",
     "output_type": "stream",
     "text": [
      "Gradient check passed!\n"
     ]
    },
    {
     "data": {
      "text/plain": [
       "True"
      ]
     },
     "execution_count": 6,
     "metadata": {},
     "output_type": "execute_result"
    }
   ],
   "source": [
    "# TODO Implement combined function or softmax and cross entropy and produces gradient\n",
    "loss, grad = linear_classifer.softmax_with_cross_entropy(np.array([1, 0, 0]), 1)\n",
    "check_gradient(lambda x: linear_classifer.softmax_with_cross_entropy(x, 1), np.array([1, 0, 0], float))"
   ]
  },
  {
   "cell_type": "markdown",
   "metadata": {},
   "source": [
    "В качестве метода тренировки мы будем использовать стохастический градиентный спуск (stochastic gradient descent или SGD), который работает с батчами сэмплов. \n",
    "\n",
    "Поэтому все наши фукнции будут получать не один пример, а батч, то есть входом будет не вектор из `num_classes` оценок, а матрица размерности `batch_size, num_classes`. Индекс примера в батче всегда будет первым измерением.\n",
    "\n",
    "Следующий шаг - переписать наши функции так, чтобы они поддерживали батчи.\n",
    "\n",
    "Финальное значение функции ошибки должно остаться числом, и оно равно среднему значению ошибки среди всех примеров в батче."
   ]
  },
  {
   "cell_type": "code",
   "execution_count": 7,
   "metadata": {
    "scrolled": false
   },
   "outputs": [
    {
     "name": "stdout",
     "output_type": "stream",
     "text": [
      "Gradient check passed!\n",
      "Gradient check passed!\n"
     ]
    }
   ],
   "source": [
    "np.random.seed(42)\n",
    "# Test batch_size = 1\n",
    "num_classes = 4\n",
    "batch_size = 1\n",
    "predictions = np.random.randint(-1, 3, size=(batch_size, num_classes)).astype(float)\n",
    "target_index = np.random.randint(0, num_classes, size=(batch_size, 1)).astype(int)\n",
    "check_gradient(lambda x: linear_classifer.softmax_with_cross_entropy(x, target_index), predictions)\n",
    "\n",
    "# Test batch_size = 3\n",
    "num_classes = 4\n",
    "batch_size = 3\n",
    "predictions = np.random.randint(-1, 3, size=(batch_size, num_classes)).astype(float)\n",
    "target_index = np.random.randint(0, num_classes, size=(batch_size, 1)).astype(int)\n",
    "check_gradient(lambda x: linear_classifer.softmax_with_cross_entropy(x, target_index), predictions)\n",
    "\n",
    "# Make sure maximum subtraction for numberic stability is done separately for every sample in the batch\n",
    "probs = linear_classifer.softmax(np.array([[20,0,0], [1000, 0, 0]]))\n",
    "assert np.all(np.isclose(probs[:, 0], 1.0))"
   ]
  },
  {
   "cell_type": "markdown",
   "metadata": {},
   "source": [
    "### Наконец, реализуем сам линейный классификатор!\n",
    "\n",
    "softmax и cross-entropy получают на вход оценки, которые выдает линейный классификатор.\n",
    "\n",
    "Он делает это очень просто: для каждого класса есть набор весов, на которые надо умножить пиксели картинки и сложить. Получившееся число и является оценкой класса, идущей на вход softmax.\n",
    "\n",
    "Таким образом, линейный классификатор можно представить как умножение вектора с пикселями на матрицу W размера `num_features, num_classes`. Такой подход легко расширяется на случай батча векторов с пикселями X размера `batch_size, num_features`:\n",
    "\n",
    "`predictions = X * W`, где `*` - матричное умножение.\n",
    "\n",
    "Реализуйте функцию подсчета линейного классификатора и градиентов по весам `linear_softmax` в файле `linear_classifer.py`"
   ]
  },
  {
   "cell_type": "code",
   "execution_count": 8,
   "metadata": {},
   "outputs": [
    {
     "name": "stdout",
     "output_type": "stream",
     "text": [
      "Gradient check passed!\n"
     ]
    },
    {
     "data": {
      "text/plain": [
       "True"
      ]
     },
     "execution_count": 8,
     "metadata": {},
     "output_type": "execute_result"
    }
   ],
   "source": [
    "# TODO Implement linear_softmax function that uses softmax with cross-entropy for linear classifier\n",
    "batch_size = 2\n",
    "num_classes = 2\n",
    "num_features = 3\n",
    "np.random.seed(42)\n",
    "W = np.random.randint(-1, 3, size=(num_features, num_classes)).astype(float)\n",
    "X = np.random.randint(-1, 3, size=(batch_size, num_features)).astype(float)\n",
    "target_index = np.ones(batch_size, dtype=int)\n",
    "\n",
    "loss, dW = linear_classifer.linear_softmax(X, W, target_index)\n",
    "check_gradient(lambda w: linear_classifer.linear_softmax(X, w, target_index), W)"
   ]
  },
  {
   "cell_type": "markdown",
   "metadata": {},
   "source": [
    "### И теперь регуляризация\n",
    "\n",
    "Мы будем использовать L2 regularization для весов как часть общей функции ошибки.\n",
    "\n",
    "Напомним, L2 regularization определяется как\n",
    "\n",
    "l2_reg_loss = regularization_strength * sum<sub>ij</sub> W[i, j]<sup>2</sup>\n",
    "\n",
    "Реализуйте функцию для его вычисления и вычисления соотвествующих градиентов."
   ]
  },
  {
   "cell_type": "code",
   "execution_count": 9,
   "metadata": {},
   "outputs": [
    {
     "name": "stdout",
     "output_type": "stream",
     "text": [
      "Gradient check passed!\n"
     ]
    },
    {
     "data": {
      "text/plain": [
       "True"
      ]
     },
     "execution_count": 9,
     "metadata": {},
     "output_type": "execute_result"
    }
   ],
   "source": [
    "# TODO Implement l2_regularization function that implements loss for L2 regularization\n",
    "linear_classifer.l2_regularization(W, 0.01)\n",
    "check_gradient(lambda w: linear_classifer.l2_regularization(w, 0.01), W)"
   ]
  },
  {
   "cell_type": "markdown",
   "metadata": {},
   "source": [
    "# Тренировка!"
   ]
  },
  {
   "cell_type": "markdown",
   "metadata": {},
   "source": [
    "Градиенты в порядке, реализуем процесс тренировки!"
   ]
  },
  {
   "cell_type": "code",
   "execution_count": 10,
   "metadata": {
    "scrolled": false
   },
   "outputs": [
    {
     "name": "stdout",
     "output_type": "stream",
     "text": [
      "Epoch 0, loss: 2.484015\n",
      "Epoch 1, loss: 2.420033\n",
      "Epoch 2, loss: 2.386015\n",
      "Epoch 3, loss: 2.366167\n"
     ]
    },
    {
     "name": "stdout",
     "output_type": "stream",
     "text": [
      "Epoch 4, loss: 2.353593\n",
      "Epoch 5, loss: 2.345045\n",
      "Epoch 6, loss: 2.338894\n",
      "Epoch 7, loss: 2.334270\n",
      "Epoch 8, loss: 2.330671\n",
      "Epoch 9, loss: 2.327790\n"
     ]
    }
   ],
   "source": [
    "# TODO: Implement LinearSoftmaxClassifier.fit function\n",
    "classifier = linear_classifer.LinearSoftmaxClassifier(True)\n",
    "loss_history = classifier.fit(train_X, train_y, epochs=10, learning_rate=1e-3, batch_size=300, reg=1e1)"
   ]
  },
  {
   "cell_type": "code",
   "execution_count": 11,
   "metadata": {},
   "outputs": [
    {
     "data": {
      "image/png": "[encoded data removed]",
      "text/plain": [
       "<Figure size 2000x500 with 1 Axes>"
      ]
     },
     "metadata": {},
     "output_type": "display_data"
    }
   ],
   "source": [
    "# let's look at the loss history!\n",
    "plt.figure(figsize=(20, 5))\n",
    "plt.plot(loss_history, marker='.')\n",
    "plt.grid()\n",
    "plt.show()"
   ]
  },
  {
   "cell_type": "code",
   "execution_count": 12,
   "metadata": {},
   "outputs": [
    {
     "name": "stdout",
     "output_type": "stream",
     "text": [
      "Accuracy:  0.127\n",
      "Epoch 0, loss: 2.331489\n",
      "Epoch 1, loss: 2.317212\n",
      "Epoch 2, loss: 2.312465\n",
      "Epoch 3, loss: 2.310050\n",
      "Epoch 4, loss: 2.308622\n",
      "Epoch 5, loss: 2.307690\n",
      "Epoch 6, loss: 2.307001\n",
      "Epoch 7, loss: 2.306500\n",
      "Epoch 8, loss: 2.306106\n",
      "Epoch 9, loss: 2.305772\n",
      "Epoch 10, loss: 2.305516\n",
      "Epoch 11, loss: 2.305297\n",
      "Epoch 12, loss: 2.305128\n",
      "Epoch 13, loss: 2.304975\n",
      "Epoch 14, loss: 2.304837\n",
      "Epoch 15, loss: 2.304724\n",
      "Epoch 16, loss: 2.304614\n",
      "Epoch 17, loss: 2.304531\n",
      "Epoch 18, loss: 2.304450\n",
      "Epoch 19, loss: 2.304383\n",
      "Epoch 20, loss: 2.304312\n",
      "Epoch 21, loss: 2.304246\n",
      "Epoch 22, loss: 2.304197\n",
      "Epoch 23, loss: 2.304144\n",
      "Epoch 24, loss: 2.304095\n",
      "Epoch 25, loss: 2.304051\n",
      "Epoch 26, loss: 2.304009\n",
      "Epoch 27, loss: 2.303971\n",
      "Epoch 28, loss: 2.303944\n",
      "Epoch 29, loss: 2.303912\n",
      "Epoch 30, loss: 2.303883\n",
      "Epoch 31, loss: 2.303841\n",
      "Epoch 32, loss: 2.303817\n",
      "Epoch 33, loss: 2.303789\n",
      "Epoch 34, loss: 2.303767\n",
      "Epoch 35, loss: 2.303746\n",
      "Epoch 36, loss: 2.303723\n",
      "Epoch 37, loss: 2.303703\n",
      "Epoch 38, loss: 2.303685\n",
      "Epoch 39, loss: 2.303666\n",
      "Epoch 40, loss: 2.303651\n",
      "Epoch 41, loss: 2.303635\n",
      "Epoch 42, loss: 2.303615\n",
      "Epoch 43, loss: 2.303598\n",
      "Epoch 44, loss: 2.303584\n",
      "Epoch 45, loss: 2.303573\n",
      "Epoch 46, loss: 2.303559\n",
      "Epoch 47, loss: 2.303547\n",
      "Epoch 48, loss: 2.303538\n",
      "Epoch 49, loss: 2.303525\n",
      "Epoch 50, loss: 2.303515\n",
      "Epoch 51, loss: 2.303510\n",
      "Epoch 52, loss: 2.303500\n",
      "Epoch 53, loss: 2.303490\n",
      "Epoch 54, loss: 2.303477\n",
      "Epoch 55, loss: 2.303464\n",
      "Epoch 56, loss: 2.303454\n",
      "Epoch 57, loss: 2.303445\n",
      "Epoch 58, loss: 2.303436\n",
      "Epoch 59, loss: 2.303429\n",
      "Epoch 60, loss: 2.303423\n",
      "Epoch 61, loss: 2.303417\n",
      "Epoch 62, loss: 2.303409\n",
      "Epoch 63, loss: 2.303401\n",
      "Epoch 64, loss: 2.303396\n",
      "Epoch 65, loss: 2.303391\n",
      "Epoch 66, loss: 2.303384\n",
      "Epoch 67, loss: 2.303380\n",
      "Epoch 68, loss: 2.303376\n",
      "Epoch 69, loss: 2.303367\n",
      "Epoch 70, loss: 2.303360\n",
      "Epoch 71, loss: 2.303354\n",
      "Epoch 72, loss: 2.303350\n",
      "Epoch 73, loss: 2.303342\n",
      "Epoch 74, loss: 2.303337\n",
      "Epoch 75, loss: 2.303331\n",
      "Epoch 76, loss: 2.303326\n",
      "Epoch 77, loss: 2.303320\n",
      "Epoch 78, loss: 2.303315\n",
      "Epoch 79, loss: 2.303313\n",
      "Epoch 80, loss: 2.303309\n",
      "Epoch 81, loss: 2.303306\n",
      "Epoch 82, loss: 2.303303\n",
      "Epoch 83, loss: 2.303298\n",
      "Epoch 84, loss: 2.303292\n",
      "Epoch 85, loss: 2.303289\n",
      "Epoch 86, loss: 2.303284\n",
      "Epoch 87, loss: 2.303281\n",
      "Epoch 88, loss: 2.303280\n",
      "Epoch 89, loss: 2.303276\n",
      "Epoch 90, loss: 2.303274\n",
      "Epoch 91, loss: 2.303272\n",
      "Epoch 92, loss: 2.303271\n",
      "Epoch 93, loss: 2.303269\n",
      "Epoch 94, loss: 2.303264\n",
      "Epoch 95, loss: 2.303263\n",
      "Epoch 96, loss: 2.303259\n",
      "Epoch 97, loss: 2.303256\n",
      "Epoch 98, loss: 2.303253\n",
      "Epoch 99, loss: 2.303250\n",
      "Accuracy after training for 100 epochs:  0.132\n"
     ]
    }
   ],
   "source": [
    "# Let's check how it performs on validation set\n",
    "pred = classifier.predict(val_X)\n",
    "accuracy = multiclass_accuracy(pred, val_y)\n",
    "print(\"Accuracy: \", accuracy)\n",
    "\n",
    "# Now, let's train more and see if it performs better\n",
    "classifier.fit(train_X, train_y, epochs=100, learning_rate=1e-2, batch_size=300, reg=1e1)\n",
    "pred = classifier.predict(val_X)\n",
    "accuracy = multiclass_accuracy(pred, val_y)\n",
    "print(\"Accuracy after training for 100 epochs: \", accuracy)"
   ]
  },
  {
   "cell_type": "markdown",
   "metadata": {},
   "source": [
    "### Как и раньше, используем кросс-валидацию для подбора гиперпараметтов.\n",
    "\n",
    "В этот раз, чтобы тренировка занимала разумное время, мы будем использовать только одно разделение на тренировочные (training) и проверочные (validation) данные.\n",
    "\n",
    "Теперь нам нужно подобрать не один, а два гиперпараметра! Не ограничивайте себя изначальными значениями в коде.  \n",
    "Добейтесь точности более чем **20%** на проверочных данных (validation data)."
   ]
  },
  {
   "cell_type": "code",
   "execution_count": 14,
   "metadata": {},
   "outputs": [
    {
     "name": "stdout",
     "output_type": "stream",
     "text": [
      "Accuracy 0.19, 100 epochs, 16 batch, 0.01 lr, 0.1 reg\n",
      "Accuracy 0.208, 100 epochs, 32 batch, 0.01 lr, 0.1 reg\n",
      "Accuracy 0.232, 100 epochs, 64 batch, 0.01 lr, 0.1 reg\n",
      "Accuracy 0.237, 100 epochs, 16 batch, 0.01 lr, 0.01 reg\n",
      "Accuracy 0.24, 100 epochs, 32 batch, 0.01 lr, 0.01 reg\n",
      "Accuracy 0.242, 100 epochs, 64 batch, 0.01 lr, 0.01 reg\n",
      "Accuracy 0.238, 100 epochs, 16 batch, 0.01 lr, 0.001 reg\n",
      "Accuracy 0.238, 100 epochs, 32 batch, 0.01 lr, 0.001 reg\n",
      "Accuracy 0.244, 100 epochs, 64 batch, 0.01 lr, 0.001 reg\n",
      "Accuracy 0.219, 100 epochs, 16 batch, 0.001 lr, 0.1 reg\n",
      "Accuracy 0.234, 100 epochs, 32 batch, 0.001 lr, 0.1 reg\n",
      "Accuracy 0.228, 100 epochs, 64 batch, 0.001 lr, 0.1 reg\n",
      "Accuracy 0.246, 100 epochs, 16 batch, 0.001 lr, 0.01 reg\n",
      "Accuracy 0.226, 100 epochs, 32 batch, 0.001 lr, 0.01 reg\n",
      "Accuracy 0.227, 100 epochs, 64 batch, 0.001 lr, 0.01 reg\n",
      "Accuracy 0.235, 100 epochs, 16 batch, 0.001 lr, 0.001 reg\n",
      "Accuracy 0.237, 100 epochs, 32 batch, 0.001 lr, 0.001 reg\n",
      "Accuracy 0.229, 100 epochs, 64 batch, 0.001 lr, 0.001 reg\n",
      "Accuracy 0.224, 100 epochs, 16 batch, 0.0001 lr, 0.1 reg\n",
      "Accuracy 0.211, 100 epochs, 32 batch, 0.0001 lr, 0.1 reg\n",
      "Accuracy 0.197, 100 epochs, 64 batch, 0.0001 lr, 0.1 reg\n",
      "Accuracy 0.226, 100 epochs, 16 batch, 0.0001 lr, 0.01 reg\n",
      "Accuracy 0.212, 100 epochs, 32 batch, 0.0001 lr, 0.01 reg\n",
      "Accuracy 0.197, 100 epochs, 64 batch, 0.0001 lr, 0.01 reg\n",
      "Accuracy 0.227, 100 epochs, 16 batch, 0.0001 lr, 0.001 reg\n",
      "Accuracy 0.214, 100 epochs, 32 batch, 0.0001 lr, 0.001 reg\n",
      "Accuracy 0.197, 100 epochs, 64 batch, 0.0001 lr, 0.001 reg\n",
      "best validation accuracy achieved: 0.246000\n"
     ]
    }
   ],
   "source": [
    "num_epochs = 100\n",
    "learning_rates = np.logspace(-2, -4, num=3)\n",
    "reg_strengths = np.logspace(-1,-3, num=3)\n",
    "batch_sizes = [16, 32, 64]\n",
    "\n",
    "best_classifier = None\n",
    "best_val_accuracy = 0\n",
    "\n",
    "# TODO use validation set to find the best hyperparameters\n",
    "# hint: for best results, you might need to try more values for learning rate and regularization strength \n",
    "# than provided initially\n",
    "for lr in learning_rates:\n",
    "    for reg in reg_strengths:\n",
    "        for batch in batch_sizes:\n",
    "            classifier = linear_classifer.LinearSoftmaxClassifier()\n",
    "            classifier.fit(train_X, train_y, epochs=num_epochs, learning_rate=lr, batch_size=batch, reg=reg)\n",
    "            pred = classifier.predict(val_X)\n",
    "            accuracy = multiclass_accuracy(pred, val_y)\n",
    "            print(f\"Accuracy {accuracy}, {num_epochs} epochs, {batch} batch, {np.round(lr, 4)} lr, {np.round(reg, 4)} reg\")\n",
    "            if accuracy > best_val_accuracy:\n",
    "                best_classifier = classifier\n",
    "                best_val_accuracy = accuracy\n",
    "        \n",
    "print('best validation accuracy achieved: %f' % best_val_accuracy)"
   ]
  },
  {
   "cell_type": "markdown",
   "metadata": {},
   "source": [
    "# Какой же точности мы добились на тестовых данных?"
   ]
  },
  {
   "cell_type": "code",
   "execution_count": 15,
   "metadata": {},
   "outputs": [
    {
     "name": "stdout",
     "output_type": "stream",
     "text": [
      "Linear softmax classifier test set accuracy: 0.205000\n"
     ]
    }
   ],
   "source": [
    "test_pred = best_classifier.predict(test_X)\n",
    "test_accuracy = multiclass_accuracy(test_pred, test_y)\n",
    "print('Linear softmax classifier test set accuracy: %f' % (test_accuracy, ))"
   ]
  }
 ],
 "metadata": {
  "kernelspec": {
   "display_name": "Python 3",
   "language": "python",
   "name": "python3"
  },
  "language_info": {
   "codemirror_mode": {
    "name": "ipython",
    "version": 3
   },
   "file_extension": ".py",
   "mimetype": "text/x-python",
   "name": "python",
   "nbconvert_exporter": "python",
   "pygments_lexer": "ipython3",
   "version": "3.10.12"
  }
 },
 "nbformat": 4,
 "nbformat_minor": 2
}
